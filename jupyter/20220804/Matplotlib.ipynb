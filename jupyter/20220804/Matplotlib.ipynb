{
 "cells": [
  {
   "cell_type": "code",
   "execution_count": 1,
   "id": "f89791a3",
   "metadata": {
    "ExecuteTime": {
     "end_time": "2022-08-04T05:32:52.496381Z",
     "start_time": "2022-08-04T05:32:51.265691Z"
    }
   },
   "outputs": [],
   "source": [
    "import matplotlib.pyplot as plt"
   ]
  },
  {
   "cell_type": "code",
   "execution_count": 10,
   "id": "6b3448ed",
   "metadata": {
    "ExecuteTime": {
     "end_time": "2022-08-04T05:35:37.955865Z",
     "start_time": "2022-08-04T05:35:37.942880Z"
    }
   },
   "outputs": [],
   "source": [
    "x = [1, 3, 10, 50]\n",
    "y = [1, 2, 3, 4]"
   ]
  },
  {
   "cell_type": "code",
   "execution_count": 16,
   "id": "2103db7f",
   "metadata": {
    "ExecuteTime": {
     "end_time": "2022-08-04T05:38:12.437912Z",
     "start_time": "2022-08-04T05:38:12.303029Z"
    }
   },
   "outputs": [
    {
     "data": {
      "text/plain": [
       "<matplotlib.legend.Legend at 0x19c816ba400>"
      ]
     },
     "execution_count": 16,
     "metadata": {},
     "output_type": "execute_result"
    },
    {
     "data": {
      "image/png": "[encoded data removed]",
      "text/plain": [
       "<Figure size 432x288 with 1 Axes>"
      ]
     },
     "metadata": {
      "needs_background": "light"
     },
     "output_type": "display_data"
    }
   ],
   "source": [
    "plt.plot(x, y)\n",
    "plt.xlabel('x')\n",
    "plt.ylabel('y')\n",
    "plt.axis([0, 100, 1, 5])\n",
    "plt.legend('test')"
   ]
  },
  {
   "cell_type": "code",
   "execution_count": 17,
   "id": "6b79e64d",
   "metadata": {
    "ExecuteTime": {
     "end_time": "2022-08-04T05:40:30.714063Z",
     "start_time": "2022-08-04T05:40:30.695112Z"
    }
   },
   "outputs": [],
   "source": [
    "x = [1, 2, 3, 4]\n",
    "y = [1, 3, 10, 50]"
   ]
  },
  {
   "cell_type": "code",
   "execution_count": 19,
   "id": "4b48fd27",
   "metadata": {
    "ExecuteTime": {
     "end_time": "2022-08-04T05:42:25.142404Z",
     "start_time": "2022-08-04T05:42:25.015467Z"
    }
   },
   "outputs": [
    {
     "data": {
      "text/plain": [
       "<matplotlib.collections.PathCollection at 0x19c81780af0>"
      ]
     },
     "execution_count": 19,
     "metadata": {},
     "output_type": "execute_result"
    },
    {
     "data": {
      "image/png": "[encoded data removed]",
      "text/plain": [
       "<Figure size 432x288 with 1 Axes>"
      ]
     },
     "metadata": {
      "needs_background": "light"
     },
     "output_type": "display_data"
    }
   ],
   "source": [
    "plt.scatter(x, y)"
   ]
  },
  {
   "cell_type": "code",
   "execution_count": 20,
   "id": "9ff50a2f",
   "metadata": {
    "ExecuteTime": {
     "end_time": "2022-08-04T05:42:35.902257Z",
     "start_time": "2022-08-04T05:42:35.887825Z"
    }
   },
   "outputs": [],
   "source": [
    "x = [1, 4, 9, 16]"
   ]
  },
  {
   "cell_type": "code",
   "execution_count": 31,
   "id": "b49cf296",
   "metadata": {
    "ExecuteTime": {
     "end_time": "2022-08-04T05:46:11.967465Z",
     "start_time": "2022-08-04T05:46:11.840076Z"
    }
   },
   "outputs": [
    {
     "data": {
      "text/plain": [
       "[<matplotlib.lines.Line2D at 0x19c86b3e8b0>]"
      ]
     },
     "execution_count": 31,
     "metadata": {},
     "output_type": "execute_result"
    },
    {
     "data": {
      "image/png": "[encoded data removed]",
      "text/plain": [
       "<Figure size 432x288 with 1 Axes>"
      ]
     },
     "metadata": {
      "needs_background": "light"
     },
     "output_type": "display_data"
    }
   ],
   "source": [
    "plt.plot(x, [1, 2, 3, 4], 'r', marker='*')\n",
    "plt.plot(x, [1, 4, 8, 49], 'b', marker='^')\n",
    "plt.plot(x, [3, 6, 9, 12], 'g', marker='o')"
   ]
  },
  {
   "cell_type": "code",
   "execution_count": 33,
   "id": "83c12beb",
   "metadata": {
    "ExecuteTime": {
     "end_time": "2022-08-04T06:02:41.905170Z",
     "start_time": "2022-08-04T06:02:41.520898Z"
    }
   },
   "outputs": [],
   "source": [
    "import pandas as pd"
   ]
  },
  {
   "cell_type": "code",
   "execution_count": 35,
   "id": "83c0f82e",
   "metadata": {
    "ExecuteTime": {
     "end_time": "2022-08-04T06:02:50.147289Z",
     "start_time": "2022-08-04T06:02:50.088846Z"
    }
   },
   "outputs": [],
   "source": [
    "df = pd.read_csv('./data/population_number.csv', encoding='euc-kr')"
   ]
  },
  {
   "cell_type": "code",
   "execution_count": 36,
   "id": "b6852066",
   "metadata": {
    "ExecuteTime": {
     "end_time": "2022-08-04T06:02:51.743849Z",
     "start_time": "2022-08-04T06:02:51.728912Z"
    },
    "scrolled": true
   },
   "outputs": [
    {
     "data": {
      "text/html": [
       "<div>\n",
       "<style scoped>\n",
       "    .dataframe tbody tr th:only-of-type {\n",
       "        vertical-align: middle;\n",
       "    }\n",
       "\n",
       "    .dataframe tbody tr th {\n",
       "        vertical-align: top;\n",
       "    }\n",
       "\n",
       "    .dataframe thead th {\n",
       "        text-align: right;\n",
       "    }\n",
       "</style>\n",
       "<table border=\"1\" class=\"dataframe\">\n",
       "  <thead>\n",
       "    <tr style=\"text-align: right;\">\n",
       "      <th></th>\n",
       "      <th>도시</th>\n",
       "      <th>지역</th>\n",
       "      <th>2015</th>\n",
       "      <th>2010</th>\n",
       "      <th>2005</th>\n",
       "      <th>2000</th>\n",
       "    </tr>\n",
       "  </thead>\n",
       "  <tbody>\n",
       "    <tr>\n",
       "      <th>0</th>\n",
       "      <td>서울</td>\n",
       "      <td>수도권</td>\n",
       "      <td>9904312</td>\n",
       "      <td>9631482.0</td>\n",
       "      <td>9762546.0</td>\n",
       "      <td>9853972</td>\n",
       "    </tr>\n",
       "    <tr>\n",
       "      <th>1</th>\n",
       "      <td>부산</td>\n",
       "      <td>경상권</td>\n",
       "      <td>3448737</td>\n",
       "      <td>NaN</td>\n",
       "      <td>NaN</td>\n",
       "      <td>3655437</td>\n",
       "    </tr>\n",
       "    <tr>\n",
       "      <th>2</th>\n",
       "      <td>인천</td>\n",
       "      <td>수도권</td>\n",
       "      <td>2890451</td>\n",
       "      <td>2632035.0</td>\n",
       "      <td>NaN</td>\n",
       "      <td>2466338</td>\n",
       "    </tr>\n",
       "    <tr>\n",
       "      <th>3</th>\n",
       "      <td>대구</td>\n",
       "      <td>경상권</td>\n",
       "      <td>2466052</td>\n",
       "      <td>2431774.0</td>\n",
       "      <td>2456016.0</td>\n",
       "      <td>2473990</td>\n",
       "    </tr>\n",
       "  </tbody>\n",
       "</table>\n",
       "</div>"
      ],
      "text/plain": [
       "   도시   지역     2015       2010       2005     2000\n",
       "0  서울  수도권  9904312  9631482.0  9762546.0  9853972\n",
       "1  부산  경상권  3448737        NaN        NaN  3655437\n",
       "2  인천  수도권  2890451  2632035.0        NaN  2466338\n",
       "3  대구  경상권  2466052  2431774.0  2456016.0  2473990"
      ]
     },
     "execution_count": 36,
     "metadata": {},
     "output_type": "execute_result"
    }
   ],
   "source": [
    "df"
   ]
  },
  {
   "cell_type": "code",
   "execution_count": 72,
   "id": "cbf5a700",
   "metadata": {
    "ExecuteTime": {
     "end_time": "2022-08-04T06:13:44.972469Z",
     "start_time": "2022-08-04T06:13:44.873426Z"
    },
    "collapsed": true
   },
   "outputs": [
    {
     "data": {
      "text/plain": [
       "Text(0.5, 1.0, 'Seoul Population')"
      ]
     },
     "execution_count": 72,
     "metadata": {},
     "output_type": "execute_result"
    },
    {
     "data": {
      "image/png": "[encoded data removed]",
      "text/plain": [
       "<Figure size 432x288 with 1 Axes>"
      ]
     },
     "metadata": {
      "needs_background": "light"
     },
     "output_type": "display_data"
    }
   ],
   "source": [
    "plt.bar( df.columns[2:], df.iloc[0, 2:] )\n",
    "plt.ylim(9500000, 10000000)\n",
    "plt.title('Seoul Population')"
   ]
  },
  {
   "cell_type": "code",
   "execution_count": 89,
   "id": "9b63d971",
   "metadata": {
    "ExecuteTime": {
     "end_time": "2022-08-04T06:17:44.677935Z",
     "start_time": "2022-08-04T06:17:44.561764Z"
    },
    "collapsed": true
   },
   "outputs": [
    {
     "data": {
      "text/plain": [
       "Text(0.5, 1.0, 'Busan Population')"
      ]
     },
     "execution_count": 89,
     "metadata": {},
     "output_type": "execute_result"
    },
    {
     "data": {
      "image/png": "[encoded data removed]",
      "text/plain": [
       "<Figure size 432x288 with 1 Axes>"
      ]
     },
     "metadata": {
      "needs_background": "light"
     },
     "output_type": "display_data"
    }
   ],
   "source": [
    "plt.bar( df.columns[2:], df.iloc[1, 2:], color='r')\n",
    "plt.ylim(1000000, 5000000)\n",
    "plt.title('Busan Population')"
   ]
  },
  {
   "cell_type": "code",
   "execution_count": 90,
   "id": "92b4a776",
   "metadata": {
    "ExecuteTime": {
     "end_time": "2022-08-04T06:17:50.035671Z",
     "start_time": "2022-08-04T06:17:49.937664Z"
    },
    "collapsed": true
   },
   "outputs": [
    {
     "data": {
      "text/plain": [
       "Text(0.5, 1.0, 'Incheon Population')"
      ]
     },
     "execution_count": 90,
     "metadata": {},
     "output_type": "execute_result"
    },
    {
     "data": {
      "image/png": "[encoded data removed]",
      "text/plain": [
       "<Figure size 432x288 with 1 Axes>"
      ]
     },
     "metadata": {
      "needs_background": "light"
     },
     "output_type": "display_data"
    }
   ],
   "source": [
    "plt.bar( df.columns[2:], df.iloc[2, 2:], color='g')\n",
    "plt.ylim(100000, 5000000)\n",
    "plt.title('Incheon Population')"
   ]
  },
  {
   "cell_type": "code",
   "execution_count": 91,
   "id": "8aa88fdc",
   "metadata": {
    "ExecuteTime": {
     "end_time": "2022-08-04T06:17:55.905732Z",
     "start_time": "2022-08-04T06:17:55.793810Z"
    },
    "collapsed": true
   },
   "outputs": [
    {
     "data": {
      "text/plain": [
       "Text(0.5, 1.0, 'Daegu Population')"
      ]
     },
     "execution_count": 91,
     "metadata": {},
     "output_type": "execute_result"
    },
    {
     "data": {
      "image/png": "[encoded data removed]",
      "text/plain": [
       "<Figure size 432x288 with 1 Axes>"
      ]
     },
     "metadata": {
      "needs_background": "light"
     },
     "output_type": "display_data"
    }
   ],
   "source": [
    "plt.bar( df.columns[2:], df.iloc[3, 2:], color='y')\n",
    "plt.ylim(1000000, 3000000)\n",
    "plt.title('Daegu Population')"
   ]
  },
  {
   "cell_type": "code",
   "execution_count": 102,
   "id": "1f35b663",
   "metadata": {
    "ExecuteTime": {
     "end_time": "2022-08-04T06:28:13.357339Z",
     "start_time": "2022-08-04T06:28:12.674756Z"
    }
   },
   "outputs": [
    {
     "data": {
      "text/plain": [
       "Text(0.5, 1.0, 'Daegu Population')"
      ]
     },
     "execution_count": 102,
     "metadata": {},
     "output_type": "execute_result"
    },
    {
     "data": {
      "image/png": "[encoded data removed]",
      "text/plain": [
       "<Figure size 1440x720 with 4 Axes>"
      ]
     },
     "metadata": {
      "needs_background": "light"
     },
     "output_type": "display_data"
    }
   ],
   "source": [
    "plt.figure(figsize=(20, 10))\n",
    "\n",
    "plt.subplot(221)\n",
    "plt.bar( df.columns[2:], df.iloc[0, 2:] )\n",
    "plt.ylim(9500000, 10000000)\n",
    "plt.title('Seoul Population')\n",
    "\n",
    "plt.subplot(222)\n",
    "plt.bar( df.columns[2:], df.iloc[1, 2:], color='r')\n",
    "plt.ylim(1000000, 5000000)\n",
    "plt.title('Busan Population')\n",
    "\n",
    "plt.subplot(223)\n",
    "plt.bar( df.columns[2:], df.iloc[2, 2:], color='g')\n",
    "plt.ylim(100000, 5000000)\n",
    "plt.title('Incheon Population')\n",
    "\n",
    "plt.subplot(224)\n",
    "plt.bar( df.columns[2:], df.iloc[3, 2:], color='y')\n",
    "plt.ylim(1000000, 3000000)\n",
    "plt.title('Daegu Population')"
   ]
  },
  {
   "cell_type": "code",
   "execution_count": 110,
   "id": "1b7e440d",
   "metadata": {
    "ExecuteTime": {
     "end_time": "2022-08-04T06:30:59.929706Z",
     "start_time": "2022-08-04T06:30:59.914770Z"
    }
   },
   "outputs": [
    {
     "data": {
      "text/html": [
       "<div>\n",
       "<style scoped>\n",
       "    .dataframe tbody tr th:only-of-type {\n",
       "        vertical-align: middle;\n",
       "    }\n",
       "\n",
       "    .dataframe tbody tr th {\n",
       "        vertical-align: top;\n",
       "    }\n",
       "\n",
       "    .dataframe thead th {\n",
       "        text-align: right;\n",
       "    }\n",
       "</style>\n",
       "<table border=\"1\" class=\"dataframe\">\n",
       "  <thead>\n",
       "    <tr style=\"text-align: right;\">\n",
       "      <th></th>\n",
       "      <th>도시</th>\n",
       "      <th>지역</th>\n",
       "      <th>2015</th>\n",
       "      <th>2010</th>\n",
       "      <th>2005</th>\n",
       "      <th>2000</th>\n",
       "    </tr>\n",
       "  </thead>\n",
       "  <tbody>\n",
       "    <tr>\n",
       "      <th>0</th>\n",
       "      <td>서울</td>\n",
       "      <td>수도권</td>\n",
       "      <td>9904312</td>\n",
       "      <td>9631482.0</td>\n",
       "      <td>9762546.0</td>\n",
       "      <td>9853972</td>\n",
       "    </tr>\n",
       "    <tr>\n",
       "      <th>1</th>\n",
       "      <td>부산</td>\n",
       "      <td>경상권</td>\n",
       "      <td>3448737</td>\n",
       "      <td>NaN</td>\n",
       "      <td>NaN</td>\n",
       "      <td>3655437</td>\n",
       "    </tr>\n",
       "    <tr>\n",
       "      <th>2</th>\n",
       "      <td>인천</td>\n",
       "      <td>수도권</td>\n",
       "      <td>2890451</td>\n",
       "      <td>2632035.0</td>\n",
       "      <td>NaN</td>\n",
       "      <td>2466338</td>\n",
       "    </tr>\n",
       "    <tr>\n",
       "      <th>3</th>\n",
       "      <td>대구</td>\n",
       "      <td>경상권</td>\n",
       "      <td>2466052</td>\n",
       "      <td>2431774.0</td>\n",
       "      <td>2456016.0</td>\n",
       "      <td>2473990</td>\n",
       "    </tr>\n",
       "  </tbody>\n",
       "</table>\n",
       "</div>"
      ],
      "text/plain": [
       "   도시   지역     2015       2010       2005     2000\n",
       "0  서울  수도권  9904312  9631482.0  9762546.0  9853972\n",
       "1  부산  경상권  3448737        NaN        NaN  3655437\n",
       "2  인천  수도권  2890451  2632035.0        NaN  2466338\n",
       "3  대구  경상권  2466052  2431774.0  2456016.0  2473990"
      ]
     },
     "execution_count": 110,
     "metadata": {},
     "output_type": "execute_result"
    }
   ],
   "source": [
    "df"
   ]
  },
  {
   "cell_type": "code",
   "execution_count": 116,
   "id": "4ff6d31c",
   "metadata": {
    "ExecuteTime": {
     "end_time": "2022-08-04T06:32:51.835745Z",
     "start_time": "2022-08-04T06:32:51.690983Z"
    }
   },
   "outputs": [
    {
     "data": {
      "text/plain": [
       "<matplotlib.legend.Legend at 0x19c8fc30790>"
      ]
     },
     "execution_count": 116,
     "metadata": {},
     "output_type": "execute_result"
    },
    {
     "data": {
      "image/png": "[encoded data removed]",
      "text/plain": [
       "<Figure size 432x288 with 1 Axes>"
      ]
     },
     "metadata": {
      "needs_background": "light"
     },
     "output_type": "display_data"
    }
   ],
   "source": [
    "plt.plot(df.columns[2:], df.iloc[0, 2:], 'r', marker='^')\n",
    "plt.title('Seoul Population')\n",
    "plt.ylim(9500000, 10000000)\n",
    "plt.legend(\"P\")"
   ]
  },
  {
   "cell_type": "code",
   "execution_count": null,
   "id": "28f13f52",
   "metadata": {},
   "outputs": [],
   "source": []
  },
  {
   "cell_type": "code",
   "execution_count": null,
   "id": "b1cd6cd1",
   "metadata": {},
   "outputs": [],
   "source": []
  },
  {
   "cell_type": "code",
   "execution_count": null,
   "id": "2dbd4dc6",
   "metadata": {},
   "outputs": [],
   "source": []
  },
  {
   "cell_type": "code",
   "execution_count": null,
   "id": "dab07e91",
   "metadata": {},
   "outputs": [],
   "source": []
  },
  {
   "cell_type": "code",
   "execution_count": null,
   "id": "22b87609",
   "metadata": {},
   "outputs": [],
   "source": []
  },
  {
   "cell_type": "code",
   "execution_count": null,
   "id": "1aa76760",
   "metadata": {},
   "outputs": [],
   "source": []
  },
  {
   "cell_type": "code",
   "execution_count": null,
   "id": "f28da3a4",
   "metadata": {},
   "outputs": [],
   "source": []
  },
  {
   "cell_type": "code",
   "execution_count": null,
   "id": "8e32e408",
   "metadata": {},
   "outputs": [],
   "source": []
  },
  {
   "cell_type": "code",
   "execution_count": null,
   "id": "2621c922",
   "metadata": {},
   "outputs": [],
   "source": []
  },
  {
   "cell_type": "code",
   "execution_count": null,
   "id": "e1a864d9",
   "metadata": {},
   "outputs": [],
   "source": []
  },
  {
   "cell_type": "code",
   "execution_count": null,
   "id": "ee26deca",
   "metadata": {},
   "outputs": [],
   "source": []
  },
  {
   "cell_type": "code",
   "execution_count": null,
   "id": "da997fc1",
   "metadata": {},
   "outputs": [],
   "source": []
  },
  {
   "cell_type": "code",
   "execution_count": null,
   "id": "25d68128",
   "metadata": {},
   "outputs": [],
   "source": []
  }
 ],
 "metadata": {
  "kernelspec": {
   "display_name": "Python 3 (ipykernel)",
   "language": "python",
   "name": "python3"
  },
  "language_info": {
   "codemirror_mode": {
    "name": "ipython",
    "version": 3
   },
   "file_extension": ".py",
   "mimetype": "text/x-python",
   "name": "python",
   "nbconvert_exporter": "python",
   "pygments_lexer": "ipython3",
   "version": "3.9.12"
  },
  "toc": {
   "base_numbering": 1,
   "nav_menu": {},
   "number_sections": true,
   "sideBar": true,
   "skip_h1_title": false,
   "title_cell": "Table of Contents",
   "title_sidebar": "Contents",
   "toc_cell": false,
   "toc_position": {},
   "toc_section_display": true,
   "toc_window_display": false
  }
 },
 "nbformat": 4,
 "nbformat_minor": 5
}
